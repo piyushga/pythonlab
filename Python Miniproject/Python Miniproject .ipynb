{
 "cells": [
  {
   "cell_type": "markdown",
   "metadata": {},
   "source": [
    "# VALIDATING PHONE NUMBER"
   ]
  },
  {
   "cell_type": "code",
   "execution_count": null,
   "metadata": {},
   "outputs": [
    {
     "name": "stdout",
     "output_type": "stream",
     "text": [
      "Enter the Phone Numbers to check whether they are Valid Or Not\n",
      "If u want to exit press Done\n",
      "Enter a number:2\n",
      "Invalid\n",
      "Enter a number:123456789s123\n",
      "Valid\n"
     ]
    }
   ],
   "source": [
    "# Number is valid if it has 13 digits and begins with 1 or 2\n",
    "print('Enter the Phone Numbers to check whether they are Valid Or Not')\n",
    "print('If u want to exit press done')\n",
    "while True:\n",
    "    phn=input('Enter a number:')\n",
    "    if phn=='Done' or phn=='done' or phn=='DONE':\n",
    "        break\n",
    "    try:\n",
    "        phne=int(phn)\n",
    "    except:\n",
    "        print('Invalid Input')\n",
    "        continue\n",
    "    phne=str(phn)\n",
    "    if(len(phne)==13):\n",
    "        if (phne[0]=='1' or phne[0]=='2'):\n",
    "            print('Valid')\n",
    "        else:\n",
    "            print('Invalid')\n",
    "    else:\n",
    "        print('Invalid')\n",
    "print('THANK YOU')\n",
    "        \n"
   ]
  },
  {
   "cell_type": "code",
   "execution_count": null,
   "metadata": {},
   "outputs": [],
   "source": []
  },
  {
   "cell_type": "code",
   "execution_count": null,
   "metadata": {},
   "outputs": [],
   "source": []
  }
 ],
 "metadata": {
  "kernelspec": {
   "display_name": "Python 3",
   "language": "python",
   "name": "python3"
  },
  "language_info": {
   "codemirror_mode": {
    "name": "ipython",
    "version": 3
   },
   "file_extension": ".py",
   "mimetype": "text/x-python",
   "name": "python",
   "nbconvert_exporter": "python",
   "pygments_lexer": "ipython3",
   "version": "3.7.4"
  }
 },
 "nbformat": 4,
 "nbformat_minor": 2
}
