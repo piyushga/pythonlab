{
 "cells": [
  {
   "cell_type": "code",
   "execution_count": 1,
   "metadata": {},
   "outputs": [
    {
     "name": "stdout",
     "output_type": "stream",
     "text": [
      "Enter Number:5\n",
      "Number 5 is Odd\n"
     ]
    }
   ],
   "source": [
    "#Lab2\n",
    "\n",
    "#Q1\n",
    "\n",
    "n=int(input(\"Enter Number:\"))\n",
    "\n",
    "if n%2==0:\n",
    "    print(\"Number\",n,\"is Even\")\n",
    "else:\n",
    "    print(\"Number\",n,\"is Odd\")\n",
    "\n"
   ]
  },
  {
   "cell_type": "code",
   "execution_count": 2,
   "metadata": {},
   "outputs": [
    {
     "name": "stdout",
     "output_type": "stream",
     "text": [
      "Enter a YEAR:2004\n",
      "NON Leap Year\n"
     ]
    }
   ],
   "source": [
    "#Q2\n",
    "\n",
    "n=int(input(\"Enter a YEAR:\"))\n",
    "\n",
    "if n%4==0:\n",
    "    if n%100==0:\n",
    "        if n%400==0:\n",
    "            print(\"LEAP YEAR\")\n",
    "    else:\n",
    "        print(\"NON Leap Year\")\n",
    "\n",
    "else:\n",
    "    print(\"NON Leap Year\")"
   ]
  },
  {
   "cell_type": "code",
   "execution_count": 3,
   "metadata": {},
   "outputs": [
    {
     "name": "stdout",
     "output_type": "stream",
     "text": [
      "Enter a Character:b\n",
      "b is Non-Vowel\n"
     ]
    }
   ],
   "source": [
    "#Q3\n",
    "\n",
    "str=input(\"Enter a Character:\")\n",
    "\n",
    "if str=='a' or str=='e' or str=='i' or str=='o' or str=='u':\n",
    "    print(str,\"is a Vowel\")\n",
    "else:\n",
    "    print(str,\"is Non-Vowel\")"
   ]
  },
  {
   "cell_type": "code",
   "execution_count": 4,
   "metadata": {},
   "outputs": [
    {
     "name": "stdout",
     "output_type": "stream",
     "text": [
      "Enter First Number:4\n",
      "Enter Second Number:5\n",
      "2nd Number is Greater\n"
     ]
    }
   ],
   "source": [
    "#Q4\n",
    "\n",
    "n=int(input(\"Enter First Number:\"))\n",
    "n1=int(input(\"Enter Second Number:\"))\n",
    "\n",
    "if n>n1:\n",
    "    print(\"1st Number is Greater\")\n",
    "else:\n",
    "    print(\"2nd Number is Greater\")"
   ]
  },
  {
   "cell_type": "code",
   "execution_count": 5,
   "metadata": {},
   "outputs": [
    {
     "name": "stdout",
     "output_type": "stream",
     "text": [
      "Enter Number for Factorial:5\n",
      "Factorial of Number is: 20\n"
     ]
    }
   ],
   "source": [
    "#Q5\n",
    "\n",
    "n=int(input(\"Enter Number for Factorial:\"))\n",
    "\n",
    "for i in range(1,n):\n",
    "    i=i*n\n",
    "    \n",
    "print(\"Factorial of Number is:\",i)"
   ]
  },
  {
   "cell_type": "code",
   "execution_count": 6,
   "metadata": {},
   "outputs": [
    {
     "name": "stdout",
     "output_type": "stream",
     "text": [
      "Enter a Number:5\n",
      "5 is a Prime Number\n"
     ]
    }
   ],
   "source": [
    "#Q8\n",
    "\n",
    "n=int(input(\"Enter a Number:\"))\n",
    "\n",
    "for i in range(2,n):\n",
    "    if n%i==0:\n",
    "        print(n,\"is a Non-Prime Number\")\n",
    "        break\n",
    "    if n%i!=0:\n",
    "        print(n,\"is a Prime Number\")\n",
    "        break"
   ]
  },
  {
   "cell_type": "code",
   "execution_count": null,
   "metadata": {},
   "outputs": [],
   "source": [
    "#Q10\n",
    "\n",
    "def sum(x,y):\n",
    "    return x+y\n",
    "def product(x,y):\n",
    "    return x*y\n",
    "def fact(x):\n",
    "    fact=1\n",
    "    i=1\n",
    "    for i in range(1,x+1):\n",
    "        fact=fact*i\n",
    "    return fact\n",
    "\n",
    "def diff(x,y):\n",
    "    if x>y:\n",
    "        return x-y\n",
    "    else:\n",
    "        return y-x\n",
    "\n",
    "def div(x,y):\n",
    "    return float(x/y)\n",
    "\n",
    "def lcm(x,y):\n",
    "    if x>y:\n",
    "        z=z\n",
    "    else:\n",
    "        z=y\n",
    "\n",
    "    while True:\n",
    "        if z%x==0 and z%y==0:\n",
    "            lcm=z\n",
    "            break\n",
    "        z=z+1\n",
    "    return lcm\n",
    "\n",
    "\n",
    "\n",
    "    \n",
    "p=int(input(\"Enter Password\"))\n",
    "if p==1112:\n",
    "    print(\"1.SUM\")\n",
    "    print(\"2.PRODUCT\")\n",
    "    print(\"3.FACTORIAL\")\n",
    "    print(\"4.DIFFERENCE\")\n",
    "    print(\"5.DIVIDE\")\n",
    "    print(\"6.LCM\")\n",
    "    \n",
    "    n=int(input(\"Enter Your Choice\"))\n",
    "    if n==1:\n",
    "        a=int(input(\"Enter First Number:\"))\n",
    "        b=int(input(\"Enter Second Number:\"))\n",
    "        print(\"Sum is\",sum(a,b))\n",
    "    elif n==2:\n",
    "        a=int(input(\"Enter First Number:\"))\n",
    "        b=int(input(\"Enter Second Number:\"))\n",
    "        print(\"Sum is\",product(a,b))\n",
    "    elif n==3:\n",
    "        a=int(input(\"Enter Number:\"))\n",
    "        print(\"Factorial is\",fact(a))\n",
    "    elif n==4:\n",
    "        a=int(input(\"Enter First Number:\"))\n",
    "        b=int(input(\"Enter Second Number:\"))\n",
    "        print(\"Difference is\",diff(a,b))\n",
    "    elif n==5:\n",
    "        a=int(input(\"Enter First Number:\"))\n",
    "        b=int(input(\"Enter Second Number:\"))\n",
    "        print(\"Division is\",div(a,b))\n",
    "\n",
    "    elif n==6:\n",
    "        a=int(input(\"Enter First Number:\"))\n",
    "        b=int(input(\"Enter Second Number:\"))\n",
    "        print(\"LCM is\",lcm(a,b))\n",
    "else:\n",
    "    print(\"Invalid Password\")\n",
    "        \n"
   ]
  },
  {
   "cell_type": "code",
   "execution_count": null,
   "metadata": {},
   "outputs": [],
   "source": []
  },
  {
   "cell_type": "code",
   "execution_count": null,
   "metadata": {},
   "outputs": [],
   "source": [
    "#Lab3\n",
    "\n",
    "#Q2.Print 1st 5 even numbers (use break statement).\n",
    "\n",
    "n=int(input(\"Enter Range:\"))\n",
    "for i in range(1,n):\n",
    "    if i%2==0:\n",
    "        print(i)\n",
    "    if i%2!=0:\n",
    "        continue"
   ]
  },
  {
   "cell_type": "code",
   "execution_count": null,
   "metadata": {},
   "outputs": [],
   "source": [
    "#Q3.Print 1st 4 even numbers (use continue statement).\n",
    "\n",
    "n=int(input(\"Enter Range:\"))\n",
    "\n",
    "for i in range(1,n):\n",
    "    if i%2==0:\n",
    "        print(i)\n",
    "    if i%2!=0:\n",
    "        continue"
   ]
  },
  {
   "cell_type": "code",
   "execution_count": null,
   "metadata": {},
   "outputs": [],
   "source": [
    "#Q5.Write a Python program to calculate the length of a string.\n",
    "A=\"Hello\"\n",
    "count=0\n",
    "for i in A:\n",
    "    count=count+1\n",
    "print(count)\n"
   ]
  },
  {
   "cell_type": "code",
   "execution_count": null,
   "metadata": {},
   "outputs": [],
   "source": [
    "#Q6.Write a Python program to count the number of characters (character frequency) in a string\n",
    "\n",
    "A=\"Manav Rachna University\"\n",
    "count=0\n",
    "for i in A:\n",
    "    if i=='a':\n",
    "        count=count+1\n",
    "        \n",
    "print(\"Number of A in String is\",count)"
   ]
  },
  {
   "cell_type": "code",
   "execution_count": null,
   "metadata": {},
   "outputs": [],
   "source": [
    "#Q7.Write a Python program to get a string made of the first 2 and the last 2 chars from a given a string. If the string length is less than 2, return instead of the empty string.\n",
    "\n",
    "str=input(\"Enter a String:\")\n",
    "len=len(str)\n",
    "\n",
    "if len<=2:\n",
    "    print(\"Not Valid\")\n",
    "else:\n",
    "    print(str[0]+str[1]+str[count-2]+str[count-1])"
   ]
  },
  {
   "cell_type": "code",
   "execution_count": null,
   "metadata": {},
   "outputs": [],
   "source": [
    "#Q8.Write a Python program to get a string from a given string where all occurrences of its first char have been changed to '$', except the first char itself#\n",
    "\n",
    "str=input(\"Enter a String:\")\n",
    "\n",
    "a=str[0]\n",
    "\n",
    "str1=str.replace(a,\"$\")\n",
    "\n",
    "print(\"Final String is\",a+str1[1:])        \n",
    "\n"
   ]
  },
  {
   "cell_type": "code",
   "execution_count": null,
   "metadata": {},
   "outputs": [],
   "source": [
    "#Q9.Write a Python program to get a single string from two given strings, separated by a space and swap the first two characters of each string. \n",
    "\n",
    "str=input(\"Enter First String:\")\n",
    "str1=input(\"Enter Second String:\")\n",
    "\n",
    "a=str+\" \"+str1\n",
    "print(\"Total String is\",a)\n",
    "\n",
    "b=str.replace(str[0],str1[0])\n",
    "c=str1.replace(str1[0],str[0])\n",
    "\n",
    "print(\"Final String after Replacement is\",b+' '+c)"
   ]
  },
  {
   "cell_type": "code",
   "execution_count": null,
   "metadata": {},
   "outputs": [],
   "source": [
    "#Q10.Write a Python program to add 'ing' at the end of a given string (length should be at least 3). If the given string already ends with 'ing' then add 'ly' instead. If the string length of the given string is less than 3, leave it unchanged\n",
    "\n",
    "str=input(\"Enter a String:\")\n",
    "str1=\"\"\n",
    "\n",
    "if len(str)<3:\n",
    "    print(\"No Change\")\n",
    "else:\n",
    "    if str[-3:]=='ing':\n",
    "        str1=str+'ly'\n",
    "    else:\n",
    "        str1=str+'ing'\n",
    "    \n",
    "print(str1)\n"
   ]
  },
  {
   "cell_type": "code",
   "execution_count": null,
   "metadata": {},
   "outputs": [],
   "source": []
  },
  {
   "cell_type": "code",
   "execution_count": 1,
   "metadata": {},
   "outputs": [],
   "source": [
    "#Lab-4-5\n",
    "\n",
    "#Q1\n",
    "a=(\"Hi\")"
   ]
  },
  {
   "cell_type": "code",
   "execution_count": 2,
   "metadata": {},
   "outputs": [
    {
     "name": "stdout",
     "output_type": "stream",
     "text": [
      "('Hi', 2, 2.3)\n"
     ]
    }
   ],
   "source": [
    "#Q2\n",
    "a=(\"Hi\",2,2.3)\n",
    "print(a)"
   ]
  },
  {
   "cell_type": "code",
   "execution_count": 8,
   "metadata": {},
   "outputs": [
    {
     "name": "stdout",
     "output_type": "stream",
     "text": [
      "1\n"
     ]
    }
   ],
   "source": [
    "#Q3\n",
    "\n",
    "a=(1,3,4,12)\n",
    "print(a[0])"
   ]
  },
  {
   "cell_type": "code",
   "execution_count": 9,
   "metadata": {},
   "outputs": [
    {
     "name": "stdout",
     "output_type": "stream",
     "text": [
      "Enter Number to add in the Tuple:3\n",
      "(1, 4, 5, 12, 34, 3)\n"
     ]
    }
   ],
   "source": [
    "#Q5\n",
    "\n",
    "a=(1,4,5,12,34)\n",
    "x=int(input(\"Enter Number to add in the Tuple:\"))\n",
    "\n",
    "a=a+(x,)\n",
    "\n",
    "print(a)"
   ]
  },
  {
   "cell_type": "code",
   "execution_count": 11,
   "metadata": {},
   "outputs": [
    {
     "name": "stdout",
     "output_type": "stream",
     "text": [
      "HiPiyush\n"
     ]
    }
   ],
   "source": [
    "#Q6\n",
    "\n",
    "tup=(\"Hi\",\"Piyush\")\n",
    "str=''.join(tup)\n",
    "print(str)"
   ]
  },
  {
   "cell_type": "code",
   "execution_count": 12,
   "metadata": {},
   "outputs": [
    {
     "name": "stdout",
     "output_type": "stream",
     "text": [
      "4\n"
     ]
    }
   ],
   "source": [
    "#Q7\n",
    "\n",
    "tup=(1,2,3,4,5,6,7,8,9,10)\n",
    "print(tup[3])\n"
   ]
  },
  {
   "cell_type": "code",
   "execution_count": 13,
   "metadata": {},
   "outputs": [
    {
     "name": "stdout",
     "output_type": "stream",
     "text": [
      "Element 1 found\n",
      "Element 1 found\n"
     ]
    }
   ],
   "source": [
    "#Q9\n",
    "\n",
    "tup=(1,2,3,4,1)\n",
    "a=tup[0]\n",
    "for i in tup:\n",
    "    if i==a:\n",
    "        print(\"Element\",a,\"found\")\n",
    "    else:\n",
    "        continue"
   ]
  },
  {
   "cell_type": "code",
   "execution_count": 14,
   "metadata": {},
   "outputs": [
    {
     "name": "stdout",
     "output_type": "stream",
     "text": [
      "Enter a Number:3\n",
      "Yes 3 is present\n"
     ]
    }
   ],
   "source": [
    "#Q10\n",
    "\n",
    "tup=(1,2,3,4,5)\n",
    "x=int(input(\"Enter a Number:\"))\n",
    "\n",
    "for i in tup:\n",
    "    if i==x:\n",
    "        print(\"Yes\",x,\"is present\")\n",
    "    else:\n",
    "        continue"
   ]
  },
  {
   "cell_type": "code",
   "execution_count": 15,
   "metadata": {},
   "outputs": [
    {
     "name": "stdout",
     "output_type": "stream",
     "text": [
      "(1, 1, 2, 3)\n"
     ]
    }
   ],
   "source": [
    "#Q11\n",
    "\n",
    "list=[1,1,2,3]\n",
    "tup=tuple(list)\n",
    "print(tup)"
   ]
  },
  {
   "cell_type": "code",
   "execution_count": 16,
   "metadata": {},
   "outputs": [
    {
     "name": "stdout",
     "output_type": "stream",
     "text": [
      "(1, 100, 123, 34, 78, 98)\n"
     ]
    }
   ],
   "source": [
    "#Q12\n",
    "\n",
    "tup=(1,100,123,4,34,78,98)\n",
    "tup=tup[:3]+tup[4:]\n",
    "print(tup)\n"
   ]
  },
  {
   "cell_type": "code",
   "execution_count": 17,
   "metadata": {},
   "outputs": [
    {
     "name": "stdout",
     "output_type": "stream",
     "text": [
      "(3, 5, 100, 45, 12, 65)\n"
     ]
    }
   ],
   "source": [
    "#Q13\n",
    "\n",
    "tup=(3,5,1,100,45,12,65)\n",
    "tup=tup[:2]+tup[3:]\n",
    "print(tup)"
   ]
  },
  {
   "cell_type": "code",
   "execution_count": 19,
   "metadata": {},
   "outputs": [
    {
     "name": "stdout",
     "output_type": "stream",
     "text": [
      "Enter Number to find Index:12\n",
      "Number 12 found at 11 location\n"
     ]
    }
   ],
   "source": [
    "#Q14\n",
    "\n",
    "tup=(2,5,12)\n",
    "x=int(input(\"Enter Number to find Index:\"))\n",
    "\n",
    "for i in tup:\n",
    "    if i==x:\n",
    "        print(\"Number\",x,\"found at\",i-1,\"location\")\n",
    "        \n",
    "    else:\n",
    "        continue"
   ]
  },
  {
   "cell_type": "code",
   "execution_count": 20,
   "metadata": {},
   "outputs": [
    {
     "name": "stdout",
     "output_type": "stream",
     "text": [
      "There are 4 elements\n"
     ]
    }
   ],
   "source": [
    "#Q15\n",
    "\n",
    "tup=(12,3,45,12)\n",
    "sum=0\n",
    "for i in tup:\n",
    "    sum=sum+1\n",
    "print(\"There are\",sum,\"elements\")"
   ]
  },
  {
   "cell_type": "code",
   "execution_count": 21,
   "metadata": {},
   "outputs": [
    {
     "ename": "TypeError",
     "evalue": "'int' object is not callable",
     "output_type": "error",
     "traceback": [
      "\u001b[1;31m---------------------------------------------------------------------------\u001b[0m",
      "\u001b[1;31mTypeError\u001b[0m                                 Traceback (most recent call last)",
      "\u001b[1;32m<ipython-input-21-f586e383ca3b>\u001b[0m in \u001b[0;36m<module>\u001b[1;34m\u001b[0m\n\u001b[0;32m      2\u001b[0m \u001b[1;33m\u001b[0m\u001b[0m\n\u001b[0;32m      3\u001b[0m \u001b[0ma\u001b[0m\u001b[1;33m=\u001b[0m\u001b[1;33m[\u001b[0m\u001b[1;36m1\u001b[0m\u001b[1;33m,\u001b[0m\u001b[1;36m2\u001b[0m\u001b[1;33m,\u001b[0m\u001b[1;36m3\u001b[0m\u001b[1;33m,\u001b[0m\u001b[1;36m4\u001b[0m\u001b[1;33m]\u001b[0m\u001b[1;33m\u001b[0m\u001b[1;33m\u001b[0m\u001b[0m\n\u001b[1;32m----> 4\u001b[1;33m \u001b[0mprint\u001b[0m\u001b[1;33m(\u001b[0m\u001b[0msum\u001b[0m\u001b[1;33m(\u001b[0m\u001b[0ma\u001b[0m\u001b[1;33m)\u001b[0m\u001b[1;33m)\u001b[0m\u001b[1;33m\u001b[0m\u001b[1;33m\u001b[0m\u001b[0m\n\u001b[0m",
      "\u001b[1;31mTypeError\u001b[0m: 'int' object is not callable"
     ]
    }
   ],
   "source": [
    "#Lists-Q1\n",
    "\n",
    "a=[1,2,3,4]\n",
    "print(sum(a))\n"
   ]
  },
  {
   "cell_type": "code",
   "execution_count": 22,
   "metadata": {},
   "outputs": [
    {
     "name": "stdout",
     "output_type": "stream",
     "text": [
      "Multiplication is 24\n"
     ]
    }
   ],
   "source": [
    "#lists-Q2\n",
    "\n",
    "li=[1,2,3,4]\n",
    "mul=1\n",
    "for i in li:\n",
    "    mul=mul*i\n",
    "print(\"Multiplication is\",mul)"
   ]
  },
  {
   "cell_type": "code",
   "execution_count": 23,
   "metadata": {},
   "outputs": [
    {
     "name": "stdout",
     "output_type": "stream",
     "text": [
      "Maximum from list is 100\n"
     ]
    }
   ],
   "source": [
    "#Lists-Q3\n",
    "\n",
    "a=[1,100,45,12,15]\n",
    "print(\"Maximum from list is\",max(a))"
   ]
  },
  {
   "cell_type": "code",
   "execution_count": 24,
   "metadata": {},
   "outputs": [
    {
     "name": "stdout",
     "output_type": "stream",
     "text": [
      "Minimum is 10\n"
     ]
    }
   ],
   "source": [
    "#Lists-Q4\n",
    "\n",
    "a=[10,100,34,100]\n",
    "print(\"Minimum is\",min(a))"
   ]
  },
  {
   "cell_type": "code",
   "execution_count": 25,
   "metadata": {},
   "outputs": [
    {
     "name": "stdout",
     "output_type": "stream",
     "text": [
      "3\n"
     ]
    }
   ],
   "source": [
    "#lists-Q5\n",
    "\n",
    "a=[\"1221\",\"aba\",\"abc\",\"xyz\",\"ana\"]\n",
    "sum=0\n",
    "for i in a:\n",
    "    if i[0]==i[-1]:\n",
    "        sum=sum+1\n",
    "        \n",
    "print(sum)\n",
    "\n"
   ]
  },
  {
   "cell_type": "code",
   "execution_count": 26,
   "metadata": {},
   "outputs": [
    {
     "name": "stdout",
     "output_type": "stream",
     "text": [
      "[1, 2, 3, 9]\n"
     ]
    }
   ],
   "source": [
    "#Lists-Q7\n",
    "\n",
    "k=[]\n",
    "a=[1,2,3,1,9]\n",
    "for i in a:\n",
    "    if i not in k:\n",
    "        k.append(i)\n",
    "            \n",
    "print(k)\n",
    "            "
   ]
  },
  {
   "cell_type": "code",
   "execution_count": 6,
   "metadata": {},
   "outputs": [
    {
     "name": "stdout",
     "output_type": "stream",
     "text": [
      "List is Empty\n"
     ]
    }
   ],
   "source": [
    "#Lists-Q8\n",
    "\n",
    "a=[]\n",
    "if len(a)>0:\n",
    "    print(\"List is Not Empty\")\n",
    "else:\n",
    "    print(\"List is Empty\")"
   ]
  },
  {
   "cell_type": "code",
   "execution_count": 27,
   "metadata": {},
   "outputs": [
    {
     "name": "stdout",
     "output_type": "stream",
     "text": [
      "[1, 2, 3]\n"
     ]
    }
   ],
   "source": [
    "#Lists-Q9\n",
    "\n",
    "a=[1,2,3]\n",
    "b=[]\n",
    "\n",
    "for i in a:\n",
    "    b.append(i)\n",
    "print(b)"
   ]
  },
  {
   "cell_type": "code",
   "execution_count": 3,
   "metadata": {},
   "outputs": [
    {
     "name": "stdout",
     "output_type": "stream",
     "text": [
      "['Hello', 'Hallo', 'Piyush', 'Garhg']\n"
     ]
    }
   ],
   "source": [
    "a=[\"Hello\",\"Hi\",\"Hallo\",\"Piyush\",\"Garhg\"]\n",
    "b=[]\n",
    "count=0\n",
    "for i in a:\n",
    "    for j in i:\n",
    "        count=count+1\n",
    "    if count>2:\n",
    "        b.append(i)\n",
    "    count=0\n",
    "\n",
    "print(b)\n",
    "    \n",
    "    \n"
   ]
  },
  {
   "cell_type": "code",
   "execution_count": 5,
   "metadata": {},
   "outputs": [
    {
     "name": "stdout",
     "output_type": "stream",
     "text": [
      "True\n"
     ]
    }
   ],
   "source": [
    "def common(list1, list2):\n",
    "     \n",
    "     for x in list1:\n",
    "         for y in list2:\n",
    "             if x == y:\n",
    "                 result = True\n",
    "                 return result\n",
    "print(common([1,2,3,4,5], [5,6,7,8,9]))\n"
   ]
  },
  {
   "cell_type": "code",
   "execution_count": 4,
   "metadata": {},
   "outputs": [
    {
     "name": "stdout",
     "output_type": "stream",
     "text": [
      "['Green', 'White', 'Black', 'Pink', 'Hello', 1, 2]\n"
     ]
    }
   ],
   "source": [
    "a=['Red', 'Green', 'White', 'Black', 'Pink', 'Yellow',\"Hello\",\"Hi\",1,2]\n",
    "a.remove(a[0])\n",
    "a.remove(a[4])\n",
    "a.remove(a[5])\n",
    "print(a)"
   ]
  },
  {
   "cell_type": "code",
   "execution_count": 28,
   "metadata": {},
   "outputs": [
    {
     "name": "stdout",
     "output_type": "stream",
     "text": [
      "Multiplication is 6\n"
     ]
    }
   ],
   "source": [
    "#Lab-7\n",
    "\n",
    "def mul(x,y):\n",
    "    return x*y\n",
    "\n",
    "x=2\n",
    "y=3\n",
    "print(\"Multiplication is\",mul(x,y))\n",
    "    "
   ]
  },
  {
   "cell_type": "code",
   "execution_count": 29,
   "metadata": {},
   "outputs": [
    {
     "name": "stdout",
     "output_type": "stream",
     "text": [
      "Addition is 9\n"
     ]
    }
   ],
   "source": [
    "def add(x,y):\n",
    "    return x+y\n",
    "\n",
    "x=2\n",
    "y=7\n",
    "print(\"Addition is\",add(x,y))"
   ]
  },
  {
   "cell_type": "code",
   "execution_count": 30,
   "metadata": {},
   "outputs": [
    {
     "name": "stdout",
     "output_type": "stream",
     "text": [
      "Factorial is 6\n"
     ]
    }
   ],
   "source": [
    "def fact(x):\n",
    "    fact=1\n",
    "    for i in range(1,x+1):\n",
    "        fact=fact*i\n",
    "    return fact\n",
    "\n",
    "print(\"Factorial is\",fact(3))"
   ]
  },
  {
   "cell_type": "code",
   "execution_count": 31,
   "metadata": {},
   "outputs": [
    {
     "name": "stdout",
     "output_type": "stream",
     "text": [
      "21\n"
     ]
    }
   ],
   "source": [
    "\n",
    "\n",
    "def Fibonacci(n): \n",
    "    if n<0: \n",
    "        print(\"Incorrect input\") \n",
    "    elif n==1: \n",
    "        return 0\n",
    "    elif n==2: \n",
    "        return 1\n",
    "    else: \n",
    "        return Fibonacci(n-1)+Fibonacci(n-2) \n",
    "\n",
    "\n",
    "print(Fibonacci(9)) "
   ]
  },
  {
   "cell_type": "code",
   "execution_count": 32,
   "metadata": {},
   "outputs": [
    {
     "name": "stdout",
     "output_type": "stream",
     "text": [
      "Numbers Swapped (3, 2)\n"
     ]
    }
   ],
   "source": [
    "def swap(x,y):\n",
    "    temp=x\n",
    "    x=y\n",
    "    y=temp\n",
    "    return x,y\n",
    "\n",
    "print(\"Numbers Swapped\",swap(2,3))"
   ]
  },
  {
   "cell_type": "code",
   "execution_count": null,
   "metadata": {},
   "outputs": [],
   "source": [
    "\n",
    "def gcd(a,b): \n",
    "\n",
    " \n",
    "    if (a == 0): \n",
    "        return b \n",
    "    if (b == 0): \n",
    "        return a  \n",
    "    if (a == b): \n",
    "        return a \n",
    " \n",
    "    if (a > b): \n",
    "        return gcd(a-b, b) \n",
    "    return gcd(a, b-a) \n",
    "\n",
    " \n",
    "a = 92\n",
    "b = 55\n",
    "if(gcd(a, b)): \n",
    "    print('GCD of', a, 'and', b, 'is', gcd(a, b)) \n",
    "else: \n",
    "    print('not found') \n",
    "\n"
   ]
  },
  {
   "cell_type": "code",
   "execution_count": 34,
   "metadata": {},
   "outputs": [
    {
     "name": "stdout",
     "output_type": "stream",
     "text": [
      "Enter a CharacterA\n",
      "The ASCII value of 'A' is 65\n"
     ]
    }
   ],
   "source": [
    "c=input(\"Enter a Character\")\n",
    "print(\"The ASCII value of '\" + c + \"' is\", ord(c))"
   ]
  },
  {
   "cell_type": "code",
   "execution_count": 33,
   "metadata": {},
   "outputs": [
    {
     "name": "stdout",
     "output_type": "stream",
     "text": [
      "Present date is : \n",
      "2020-05-06\n"
     ]
    }
   ],
   "source": [
    "import datetime\n",
    "from datetime import date\n",
    "\n",
    "print (\"Present date is : \") \n",
    "print (date.today()) "
   ]
  },
  {
   "cell_type": "code",
   "execution_count": 35,
   "metadata": {},
   "outputs": [
    {
     "name": "stdout",
     "output_type": "stream",
     "text": [
      "Hello Piyush . How Are You?\n"
     ]
    }
   ],
   "source": [
    "def greet(name,message):\n",
    "    print(\"Hello\",name,\".\",message)\n",
    "    \n",
    "greet(\"Piyush\",\"How Are You?\")"
   ]
  },
  {
   "cell_type": "code",
   "execution_count": 37,
   "metadata": {},
   "outputs": [
    {
     "name": "stdout",
     "output_type": "stream",
     "text": [
      "Triangle is created\n",
      "None\n",
      "Sides are 2 and 3\n",
      "None\n"
     ]
    }
   ],
   "source": [
    "#Lab-9\n",
    "\n",
    "class Triangle:\n",
    "    a=3\n",
    "    b=4\n",
    "    def create_triangle():\n",
    "        return print(\"Triangle is created\")\n",
    "        \n",
    "    def print_sides(a,b):\n",
    "        return print(\"Sides are\",a,\"and\",b)\n",
    "        \n",
    "a=2\n",
    "b=3\n",
    "print(Triangle.create_triangle())\n",
    "\n",
    "print(Triangle.print_sides(a,b))\n",
    "    "
   ]
  },
  {
   "cell_type": "code",
   "execution_count": 38,
   "metadata": {},
   "outputs": [
    {
     "name": "stdout",
     "output_type": "stream",
     "text": [
      "Enter a stringpiyush\n",
      "HiPiyush\n"
     ]
    }
   ],
   "source": [
    "class string:\n",
    "    def inputstr():\n",
    "        str=input(\"Enter a string\")\n",
    "        \n",
    "    def printstr(str):\n",
    "        return str\n",
    "    \n",
    "    \n",
    "string.inputstr()\n",
    "print(string.printstr(str))\n",
    "        "
   ]
  },
  {
   "cell_type": "code",
   "execution_count": null,
   "metadata": {},
   "outputs": [],
   "source": [
    "class Rectangle:\n",
    "    \n",
    "    def perimeter(length,breadth):\n",
    "        per=2*(length+breadth)\n",
    "        return per\n",
    "    \n",
    "print(\"Perimeter is\",Rectangle.perimeter(2,3))"
   ]
  },
  {
   "cell_type": "code",
   "execution_count": 40,
   "metadata": {},
   "outputs": [
    {
     "name": "stdout",
     "output_type": "stream",
     "text": [
      "Area of circle is 12.56\n",
      "Perimeter of circle is 18.84\n"
     ]
    }
   ],
   "source": [
    "class Circle:\n",
    "    \n",
    "    def area(r):\n",
    "        area=3.14*r*r\n",
    "        return area\n",
    "    \n",
    "    def perimeter(r):\n",
    "        per=2*3.14*r\n",
    "        return per\n",
    "    \n",
    "    \n",
    "print(\"Area of circle is\",Circle.area(2))\n",
    "print(\"Perimeter of circle is\",Circle.perimeter(3))\n",
    "        "
   ]
  },
  {
   "cell_type": "code",
   "execution_count": 39,
   "metadata": {},
   "outputs": [
    {
     "name": "stdout",
     "output_type": "stream",
     "text": [
      "In Class2\n"
     ]
    }
   ],
   "source": [
    "\n",
    "\n",
    "class Class1: \n",
    "    def m(self): \n",
    "        print(\"In Class1\") \n",
    "\n",
    "class Class2(Class1): \n",
    "    def m(self): \n",
    "        print(\"In Class2\") \n",
    "\n",
    "class Class3(Class1): \n",
    "    def m(self): \n",
    "        print(\"In Class3\") \n",
    "\n",
    "class Class4(Class2, Class3): \n",
    "    pass\n",
    "\n",
    "obj = Class4() \n",
    "obj.m() \n"
   ]
  },
  {
   "cell_type": "code",
   "execution_count": 41,
   "metadata": {},
   "outputs": [
    {
     "name": "stdout",
     "output_type": "stream",
     "text": [
      "Tiger has leg:- 4\n",
      "Dog has leg:- 4\n"
     ]
    }
   ],
   "source": [
    "#Lab10\n",
    "\n",
    "class Animal:\n",
    "  def __init__(self, leg):\n",
    "    self.leg = leg\n",
    "\n",
    "  def printleg(self):\n",
    "    print(self.leg)\n",
    "\n",
    "class tiger:\n",
    "    x = Animal(\"4\")\n",
    "    print(\"Tiger has leg:- \", end=\"\")\n",
    "    x.printleg()\n",
    "class dog:\n",
    "    x = Animal(\"4\")\n",
    "    print(\"Dog has leg:- \", end=\"\")\n",
    "    x.printleg()"
   ]
  },
  {
   "cell_type": "code",
   "execution_count": 42,
   "metadata": {},
   "outputs": [
    {
     "name": "stdout",
     "output_type": "stream",
     "text": [
      "This has a designation of:- Enginner\n",
      "This has a designation of:- Manager\n"
     ]
    }
   ],
   "source": [
    "class Employee:\n",
    "  def __init__(self, desg):\n",
    "    self.desg = desg\n",
    "\n",
    "  def printdesg(self):\n",
    "    print(self.desg)\n",
    "\n",
    "class engineer:\n",
    "    x = Employee(\"Enginner\")\n",
    "    print(\"This has a designation of:- \", end=\"\")\n",
    "    x.printdesg()\n",
    "class manager:\n",
    "    x = Employee(\"Manager\")\n",
    "    print(\"This has a designation of:- \", end=\"\")\n",
    "    x.printdesg()"
   ]
  },
  {
   "cell_type": "code",
   "execution_count": 43,
   "metadata": {},
   "outputs": [
    {
     "name": "stdout",
     "output_type": "stream",
     "text": [
      "10\n",
      "<function MyClass.func at 0x000001F508B55318>\n",
      "This is my second class\n"
     ]
    }
   ],
   "source": [
    "\n",
    "class MyClass:\n",
    "    \"This is my second class\"\n",
    "    a = 10\n",
    "    def func(self):\n",
    "        print('Hello')\n",
    "print(MyClass.a)\n",
    "print(MyClass.func)\n",
    "print(MyClass.__doc__)"
   ]
  },
  {
   "cell_type": "code",
   "execution_count": 45,
   "metadata": {},
   "outputs": [
    {
     "name": "stdout",
     "output_type": "stream",
     "text": [
      "Inside Parent\n",
      "Inside Child\n"
     ]
    }
   ],
   "source": [
    "class Parent(): \n",
    "    def __init__(self): \n",
    "        self.value = \"Inside Parent\" \n",
    "    def show(self): \n",
    "        print(self.value) \n",
    "class Child(Parent): \n",
    "    def __init__(self): \n",
    "        self.value = \"Inside Child\"\n",
    "    def show(self): \n",
    "        print(self.value)  \n",
    "obj1 = Parent() \n",
    "obj2 = Child() \n",
    "  \n",
    "obj1.show() \n",
    "obj2.show() \n"
   ]
  },
  {
   "cell_type": "code",
   "execution_count": 44,
   "metadata": {},
   "outputs": [
    {
     "name": "stdout",
     "output_type": "stream",
     "text": [
      "In Class4\n",
      "In Class2\n",
      "In Class3\n",
      "In Class1\n"
     ]
    }
   ],
   "source": [
    "\n",
    "class Class1: \n",
    "    def m(self): \n",
    "        print(\"In Class1\")  \n",
    "class Class2(Class1): \n",
    "    def m(self): \n",
    "        print(\"In Class2\") \n",
    "class Class3(Class1): \n",
    "    def m(self): \n",
    "         print(\"In Class3\")      \n",
    "class Class4(Class2, Class3): \n",
    "    def m(self): \n",
    "        print(\"In Class4\")    \n",
    "obj = Class4() \n",
    "obj.m() \n",
    "  \n",
    "Class2.m(obj) \n",
    "Class3.m(obj) \n",
    "Class1.m(obj) "
   ]
  },
  {
   "cell_type": "code",
   "execution_count": null,
   "metadata": {},
   "outputs": [],
   "source": []
  }
 ],
 "metadata": {
  "kernelspec": {
   "display_name": "Python 3",
   "language": "python",
   "name": "python3"
  },
  "language_info": {
   "codemirror_mode": {
    "name": "ipython",
    "version": 3
   },
   "file_extension": ".py",
   "mimetype": "text/x-python",
   "name": "python",
   "nbconvert_exporter": "python",
   "pygments_lexer": "ipython3",
   "version": "3.7.4"
  }
 },
 "nbformat": 4,
 "nbformat_minor": 2
}
