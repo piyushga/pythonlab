{
 "cells": [
  {
   "cell_type": "markdown",
   "metadata": {},
   "source": [
    "# PT3\n"
   ]
  },
  {
   "cell_type": "markdown",
   "metadata": {},
   "source": [
    "## VIVA QUESTIONS"
   ]
  },
  {
   "cell_type": "markdown",
   "metadata": {},
   "source": [
    "#1 we can call using super() Command."
   ]
  },
  {
   "cell_type": "markdown",
   "metadata": {},
   "source": [
    "#2 class Parent:\n",
    "\n",
    "     pass\n",
    "     \n",
    "class Child(Parent):\n",
    "     \n",
    "     pass\n",
    "     \n",
    "  Here the class child inherits the class parent"
   ]
  },
  {
   "cell_type": "markdown",
   "metadata": {},
   "source": [
    "#3 ddd={1: {'name': 'Piyush', 'age':20,'Rollno':1072},\n",
    "    2: {'name': 'XYZ', 'age':10 , 'Rollno':'10xx'}}\n",
    "\n",
    "print(ddd[1]['name'])\n",
    "\n",
    "print(ddd[2]['Rollno'])"
   ]
  },
  {
   "cell_type": "markdown",
   "metadata": {},
   "source": [
    "# SET C\n"
   ]
  },
  {
   "cell_type": "markdown",
   "metadata": {},
   "source": [
    "## QUES 1."
   ]
  },
  {
   "cell_type": "code",
   "execution_count": 19,
   "metadata": {},
   "outputs": [
    {
     "name": "stdout",
     "output_type": "stream",
     "text": [
      "Enter the first number: 4\n",
      "Enter the second number: 4\n",
      "Enter the third number: 2\n",
      "The value of above expression is:  4.0\n"
     ]
    }
   ],
   "source": [
    "value1=int(input('Enter the first number: '))\n",
    "value2=int(input('Enter the second number: '))\n",
    "value3=int(input('Enter the third number: '))\n",
    "Q=((2*value1*value2)/value3)**(1/2)\n",
    "print('The value of above expression is: ',Q)"
   ]
  },
  {
   "cell_type": "markdown",
   "metadata": {},
   "source": [
    "## QUES 2."
   ]
  },
  {
   "cell_type": "code",
   "execution_count": 20,
   "metadata": {},
   "outputs": [
    {
     "name": "stdout",
     "output_type": "stream",
     "text": [
      "Enter a string: piyush garg\n",
      "Even indexes letters are:  ['p', 'y', 's', ' ', 'a', 'g']\n"
     ]
    }
   ],
   "source": [
    "string=input('Enter a string: ')\n",
    "lst=list()\n",
    "for i in range(len(string)):\n",
    "    if(i%2==0):\n",
    "        lst.append(string[i])\n",
    "print('Even indexes letters are: ',lst)\n",
    "        "
   ]
  },
  {
   "cell_type": "code",
   "execution_count": null,
   "metadata": {},
   "outputs": [],
   "source": []
  }
 ],
 "metadata": {
  "kernelspec": {
   "display_name": "Python 3",
   "language": "python",
   "name": "python3"
  },
  "language_info": {
   "codemirror_mode": {
    "name": "ipython",
    "version": 3
   },
   "file_extension": ".py",
   "mimetype": "text/x-python",
   "name": "python",
   "nbconvert_exporter": "python",
   "pygments_lexer": "ipython3",
   "version": "3.7.4"
  }
 },
 "nbformat": 4,
 "nbformat_minor": 2
}
